{
  "nbformat": 4,
  "nbformat_minor": 0,
  "metadata": {
    "colab": {
      "name": "AggregateOpenImageDataset",
      "provenance": [],
      "collapsed_sections": []
    },
    "kernelspec": {
      "name": "python3",
      "display_name": "Python 3"
    }
  },
  "cells": [
    {
      "cell_type": "code",
      "metadata": {
        "id": "m3FEBZp2TYFB",
        "colab_type": "code",
        "colab": {}
      },
      "source": [
        "!wget https://storage.googleapis.com/openimages/v5/test-annotations-bbox.csv\n",
        "!wget https://storage.googleapis.com/openimages/v5/test-annotations-human-imagelabels-boxable.csv\n",
        "!wget https://storage.googleapis.com/openimages/2018_04/test/test-images-with-rotation.csv\n",
        "!wget https://storage.googleapis.com/openimages/v5/class-descriptions-boxable.csv"
      ],
      "execution_count": null,
      "outputs": []
    },
    {
      "cell_type": "code",
      "metadata": {
        "id": "H8v7puLVTqIm",
        "colab_type": "code",
        "colab": {}
      },
      "source": [
        "from pandas import read_csv\n",
        "labelsToClasses = read_csv('/content/class-descriptions-boxable.csv',header=None).set_axis(['LabelName','ClassName'],axis=1)\n",
        "boxesLabel = read_csv('/content/test-annotations-bbox.csv')[['ImageID','LabelName','XMin','XMax','YMin','YMax']]\n",
        "url = read_csv('/content/test-images-with-rotation.csv')[['ImageID','OriginalURL']]\n",
        "data = url.merge(boxesLabel,on='ImageID').merge(labelsToClasses,on='LabelName')\n",
        "sample = data.sample(frac=0.015)[['OriginalURL','XMin','XMax','YMin','YMax','ClassName']]\n",
        "sample.to_csv('sample.csv',index=False)\n",
        "labelsToClasses[['ClassName']].to_csv('classifications.csv',index=False)\n",
        "sample"
      ],
      "execution_count": null,
      "outputs": []
    }
  ]
}